{
 "cells": [
  {
   "cell_type": "code",
   "execution_count": null,
   "id": "a15c7e2e",
   "metadata": {},
   "outputs": [],
   "source": [
    "from lxml import html\n",
    "import requests\n",
    "from bs4 import BeautifulSoup"
   ]
  },
  {
   "cell_type": "code",
   "execution_count": null,
   "id": "07d906d6",
   "metadata": {},
   "outputs": [],
   "source": [
    "url = \"https://www.w3schools.com/\""
   ]
  },
  {
   "cell_type": "markdown",
   "id": "32958c17",
   "metadata": {},
   "source": [
    "## With Xpath"
   ]
  },
  {
   "cell_type": "code",
   "execution_count": null,
   "id": "267962ca",
   "metadata": {},
   "outputs": [],
   "source": [
    "response = requests.get(url)\n",
    "html_content = response.text\n",
    "\n",
    "parsed_html = html.fromstring(html_content)\n",
    "\n",
    "text_elements = parsed_html.xpath(\"//div//text()\") #list creation\n",
    "text_elements"
   ]
  },
  {
   "cell_type": "code",
   "execution_count": null,
   "id": "2073ffaf",
   "metadata": {},
   "outputs": [],
   "source": [
    "texts = []\n",
    "for s in text_elements:\n",
    "    if (\"\\r\" in s) or (\"\\n\" in s):\n",
    "        s = s.replace(\"\\n\",\" \")\n",
    "        s = s.replace(\"\\r\",\" \")\n",
    "        s = s.strip()\n",
    "        texts.append(s)\n",
    "    else:\n",
    "        texts.append(s)\n",
    "        \n",
    "    \n",
    "filtered_list = [item for item in texts if item.strip() != \"\"]\n",
    "#print(filtered_list)\n",
    "final_text = (\"|\").join(filtered_list)\n",
    "final_text"
   ]
  },
  {
   "cell_type": "markdown",
   "id": "5bdee4cc",
   "metadata": {},
   "source": [
    "## With Beautiful soup"
   ]
  },
  {
   "cell_type": "code",
   "execution_count": null,
   "id": "d2ba30b4",
   "metadata": {},
   "outputs": [],
   "source": [
    "soup = BeautifulSoup(html_content, 'html.parser')\n",
    "div_elements = soup.find_all(\"div\",{\"class\":\"w3-row w3-padding-32 ws-light-green\"})\n",
    "\n",
    "print(div_elements)\n",
    "\n",
    "div_texts = []\n",
    "for div in div_elements:\n",
    "    div_text = div.text.strip()\n",
    "    div_texts.append(div_text)\n",
    "\n",
    "div_texts = list(set(div_texts))\n",
    "div_texts"
   ]
  },
  {
   "cell_type": "code",
   "execution_count": null,
   "id": "a8d99fbe",
   "metadata": {},
   "outputs": [],
   "source": []
  },
  {
   "cell_type": "code",
   "execution_count": null,
   "id": "56818b55",
   "metadata": {},
   "outputs": [],
   "source": []
  },
  {
   "cell_type": "code",
   "execution_count": null,
   "id": "68e1cb5c",
   "metadata": {},
   "outputs": [],
   "source": []
  },
  {
   "cell_type": "code",
   "execution_count": null,
   "id": "261f1a5e",
   "metadata": {},
   "outputs": [],
   "source": []
  },
  {
   "cell_type": "code",
   "execution_count": null,
   "id": "a214a1be",
   "metadata": {},
   "outputs": [],
   "source": []
  },
  {
   "cell_type": "code",
   "execution_count": null,
   "id": "66a4818a",
   "metadata": {},
   "outputs": [],
   "source": []
  }
 ],
 "metadata": {
  "kernelspec": {
   "display_name": "Python 3 (ipykernel)",
   "language": "python",
   "name": "python3"
  },
  "language_info": {
   "codemirror_mode": {
    "name": "ipython",
    "version": 3
   },
   "file_extension": ".py",
   "mimetype": "text/x-python",
   "name": "python",
   "nbconvert_exporter": "python",
   "pygments_lexer": "ipython3",
   "version": "3.9.12"
  }
 },
 "nbformat": 4,
 "nbformat_minor": 5
}
